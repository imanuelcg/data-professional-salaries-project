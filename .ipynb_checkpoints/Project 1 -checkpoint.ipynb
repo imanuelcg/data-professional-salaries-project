{
 "cells": [
  {
   "cell_type": "code",
   "execution_count": 57,
   "metadata": {},
   "outputs": [
    {
     "data": {
      "text/html": [
       "<div>\n",
       "<style scoped>\n",
       "    .dataframe tbody tr th:only-of-type {\n",
       "        vertical-align: middle;\n",
       "    }\n",
       "\n",
       "    .dataframe tbody tr th {\n",
       "        vertical-align: top;\n",
       "    }\n",
       "\n",
       "    .dataframe thead th {\n",
       "        text-align: right;\n",
       "    }\n",
       "</style>\n",
       "<table border=\"1\" class=\"dataframe\">\n",
       "  <thead>\n",
       "    <tr style=\"text-align: right;\">\n",
       "      <th></th>\n",
       "      <th>Survey Year</th>\n",
       "      <th>Timestamp</th>\n",
       "      <th>SalaryUSD</th>\n",
       "      <th>Country</th>\n",
       "      <th>PostalCode</th>\n",
       "      <th>PrimaryDatabase</th>\n",
       "      <th>YearsWithThisDatabase</th>\n",
       "      <th>OtherDatabases</th>\n",
       "      <th>EmploymentStatus</th>\n",
       "      <th>JobTitle</th>\n",
       "      <th>...</th>\n",
       "      <th>HoursWorkedPerWeek</th>\n",
       "      <th>TelecommuteDaysPerWeek</th>\n",
       "      <th>PopulationOfLargestCityWithin20Miles</th>\n",
       "      <th>EmploymentSector</th>\n",
       "      <th>LookingForAnotherJob</th>\n",
       "      <th>CareerPlansThisYear</th>\n",
       "      <th>Gender</th>\n",
       "      <th>OtherJobDuties</th>\n",
       "      <th>KindsOfTasksPerformed</th>\n",
       "      <th>Counter</th>\n",
       "    </tr>\n",
       "  </thead>\n",
       "  <tbody>\n",
       "    <tr>\n",
       "      <th>0</th>\n",
       "      <td>2019</td>\n",
       "      <td>12/14/18 4:22</td>\n",
       "      <td>66 000</td>\n",
       "      <td>Sweden</td>\n",
       "      <td>NaN</td>\n",
       "      <td>Microsoft SQL Server</td>\n",
       "      <td>6</td>\n",
       "      <td>NaN</td>\n",
       "      <td>Full time employee</td>\n",
       "      <td>DBA (Production Focus - build &amp; troubleshoot s...</td>\n",
       "      <td>...</td>\n",
       "      <td>40</td>\n",
       "      <td>None, or less than 1 day per week</td>\n",
       "      <td>100K-299K (city)</td>\n",
       "      <td>Private business</td>\n",
       "      <td>Yes, but only passively (just curious)</td>\n",
       "      <td>Stay with the same role, but change employers</td>\n",
       "      <td>Male</td>\n",
       "      <td>DBA (Development Focus - tunes queries, indexe...</td>\n",
       "      <td>Build scripts &amp; automation tools, Manual tasks...</td>\n",
       "      <td>1</td>\n",
       "    </tr>\n",
       "    <tr>\n",
       "      <th>1</th>\n",
       "      <td>2018</td>\n",
       "      <td>1/4/18 6:37</td>\n",
       "      <td>50 621</td>\n",
       "      <td>Germany</td>\n",
       "      <td>81829</td>\n",
       "      <td>Microsoft SQL Server</td>\n",
       "      <td>2</td>\n",
       "      <td>Microsoft SQL Server, MySQL/MariaDB, DB2</td>\n",
       "      <td>Full time employee</td>\n",
       "      <td>DBA (General - splits time evenly between writ...</td>\n",
       "      <td>...</td>\n",
       "      <td>40</td>\n",
       "      <td>None, or less than 1 day per week</td>\n",
       "      <td>Not Asked</td>\n",
       "      <td>Private business</td>\n",
       "      <td>No</td>\n",
       "      <td>Prefer not to say</td>\n",
       "      <td>Male</td>\n",
       "      <td>NaN</td>\n",
       "      <td>NaN</td>\n",
       "      <td>1</td>\n",
       "    </tr>\n",
       "    <tr>\n",
       "      <th>2</th>\n",
       "      <td>2019</td>\n",
       "      <td>12/11/18 9:36</td>\n",
       "      <td>110, 000</td>\n",
       "      <td>United States</td>\n",
       "      <td>1880</td>\n",
       "      <td>Microsoft SQL Server</td>\n",
       "      <td>2</td>\n",
       "      <td>Oracle</td>\n",
       "      <td>Full time employee</td>\n",
       "      <td>DBA (Production Focus - build &amp; troubleshoot s...</td>\n",
       "      <td>...</td>\n",
       "      <td>44</td>\n",
       "      <td>None, or less than 1 day per week</td>\n",
       "      <td>300K-1M (large city)</td>\n",
       "      <td>Private business</td>\n",
       "      <td>No</td>\n",
       "      <td>Stay with the same employer, same role</td>\n",
       "      <td>Male</td>\n",
       "      <td>DBA (Development Focus - tunes queries, indexe...</td>\n",
       "      <td>Build scripts &amp; automation tools, Meetings &amp; m...</td>\n",
       "      <td>1</td>\n",
       "    </tr>\n",
       "    <tr>\n",
       "      <th>3</th>\n",
       "      <td>2017</td>\n",
       "      <td>1/5/17 16:49</td>\n",
       "      <td>1450000</td>\n",
       "      <td>United States</td>\n",
       "      <td>Not Asked</td>\n",
       "      <td>Microsoft SQL Server</td>\n",
       "      <td>12</td>\n",
       "      <td>Microsoft SQL Server, Oracle, Microsoft Access...</td>\n",
       "      <td>Full time employee</td>\n",
       "      <td>Analyst</td>\n",
       "      <td>...</td>\n",
       "      <td>42</td>\n",
       "      <td>None, or less than 1 day per week</td>\n",
       "      <td>Not Asked</td>\n",
       "      <td>Private business</td>\n",
       "      <td>No</td>\n",
       "      <td>Not Asked</td>\n",
       "      <td>Not Asked</td>\n",
       "      <td>Not Asked</td>\n",
       "      <td>Not Asked</td>\n",
       "      <td>1</td>\n",
       "    </tr>\n",
       "    <tr>\n",
       "      <th>4</th>\n",
       "      <td>2018</td>\n",
       "      <td>12/12/17 11:22</td>\n",
       "      <td>1450000</td>\n",
       "      <td>United States</td>\n",
       "      <td>53118</td>\n",
       "      <td>Microsoft SQL Server</td>\n",
       "      <td>20</td>\n",
       "      <td>Oracle, MongoDB, Microsoft Access, Redis, Azur...</td>\n",
       "      <td>Full time employee</td>\n",
       "      <td>DBA (General - splits time evenly between writ...</td>\n",
       "      <td>...</td>\n",
       "      <td>45</td>\n",
       "      <td>5 or more</td>\n",
       "      <td>Not Asked</td>\n",
       "      <td>Private business</td>\n",
       "      <td>Yes, but only passively (just curious)</td>\n",
       "      <td>Stay with the same employer,  but change roles</td>\n",
       "      <td>Male</td>\n",
       "      <td>Architect, Data Scientist, Developer: App code...</td>\n",
       "      <td>Build scripts &amp; automation tools, Manual tasks...</td>\n",
       "      <td>1</td>\n",
       "    </tr>\n",
       "  </tbody>\n",
       "</table>\n",
       "<p>5 rows × 29 columns</p>\n",
       "</div>"
      ],
      "text/plain": [
       "   Survey Year       Timestamp SalaryUSD        Country PostalCode  \\\n",
       "0         2019   12/14/18 4:22    66 000         Sweden        NaN   \n",
       "1         2018     1/4/18 6:37    50 621        Germany      81829   \n",
       "2         2019   12/11/18 9:36  110, 000  United States       1880   \n",
       "3         2017    1/5/17 16:49   1450000  United States  Not Asked   \n",
       "4         2018  12/12/17 11:22   1450000  United States      53118   \n",
       "\n",
       "        PrimaryDatabase  YearsWithThisDatabase  \\\n",
       "0  Microsoft SQL Server                      6   \n",
       "1  Microsoft SQL Server                      2   \n",
       "2  Microsoft SQL Server                      2   \n",
       "3  Microsoft SQL Server                     12   \n",
       "4  Microsoft SQL Server                     20   \n",
       "\n",
       "                                      OtherDatabases    EmploymentStatus  \\\n",
       "0                                                NaN  Full time employee   \n",
       "1           Microsoft SQL Server, MySQL/MariaDB, DB2  Full time employee   \n",
       "2                                             Oracle  Full time employee   \n",
       "3  Microsoft SQL Server, Oracle, Microsoft Access...  Full time employee   \n",
       "4  Oracle, MongoDB, Microsoft Access, Redis, Azur...  Full time employee   \n",
       "\n",
       "                                            JobTitle  ... HoursWorkedPerWeek  \\\n",
       "0  DBA (Production Focus - build & troubleshoot s...  ...                 40   \n",
       "1  DBA (General - splits time evenly between writ...  ...                 40   \n",
       "2  DBA (Production Focus - build & troubleshoot s...  ...                 44   \n",
       "3                                            Analyst  ...                 42   \n",
       "4  DBA (General - splits time evenly between writ...  ...                 45   \n",
       "\n",
       "              TelecommuteDaysPerWeek PopulationOfLargestCityWithin20Miles  \\\n",
       "0  None, or less than 1 day per week                     100K-299K (city)   \n",
       "1  None, or less than 1 day per week                            Not Asked   \n",
       "2  None, or less than 1 day per week                 300K-1M (large city)   \n",
       "3  None, or less than 1 day per week                            Not Asked   \n",
       "4                          5 or more                            Not Asked   \n",
       "\n",
       "   EmploymentSector                    LookingForAnotherJob  \\\n",
       "0  Private business  Yes, but only passively (just curious)   \n",
       "1  Private business                                      No   \n",
       "2  Private business                                      No   \n",
       "3  Private business                                      No   \n",
       "4  Private business  Yes, but only passively (just curious)   \n",
       "\n",
       "                              CareerPlansThisYear     Gender  \\\n",
       "0   Stay with the same role, but change employers       Male   \n",
       "1                               Prefer not to say       Male   \n",
       "2          Stay with the same employer, same role       Male   \n",
       "3                                       Not Asked  Not Asked   \n",
       "4  Stay with the same employer,  but change roles       Male   \n",
       "\n",
       "                                      OtherJobDuties  \\\n",
       "0  DBA (Development Focus - tunes queries, indexe...   \n",
       "1                                                NaN   \n",
       "2  DBA (Development Focus - tunes queries, indexe...   \n",
       "3                                          Not Asked   \n",
       "4  Architect, Data Scientist, Developer: App code...   \n",
       "\n",
       "                               KindsOfTasksPerformed  Counter  \n",
       "0  Build scripts & automation tools, Manual tasks...        1  \n",
       "1                                                NaN        1  \n",
       "2  Build scripts & automation tools, Meetings & m...        1  \n",
       "3                                          Not Asked        1  \n",
       "4  Build scripts & automation tools, Manual tasks...        1  \n",
       "\n",
       "[5 rows x 29 columns]"
      ]
     },
     "execution_count": 57,
     "metadata": {},
     "output_type": "execute_result"
    }
   ],
   "source": [
    "import numpy as np\n",
    "import pandas as pd\n",
    "import matplotlib.pyplot as plt\n",
    "import seaborn as sns\n",
    "\n",
    "data = pd.read_csv('Pro Salary.csv')\n",
    "data.head()"
   ]
  },
  {
   "cell_type": "code",
   "execution_count": 4,
   "metadata": {},
   "outputs": [
    {
     "data": {
      "text/plain": [
       "Index(['Survey Year', 'Timestamp', 'SalaryUSD', 'Country', 'PostalCode',\n",
       "       'PrimaryDatabase', 'YearsWithThisDatabase', 'OtherDatabases',\n",
       "       'EmploymentStatus', 'JobTitle', 'ManageStaff', 'YearsWithThisTypeOfJob',\n",
       "       'HowManyCompanies', 'OtherPeopleOnYourTeam', 'CompanyEmployeesOverall',\n",
       "       'DatabaseServers', 'Education', 'EducationIsComputerRelated',\n",
       "       'Certifications', 'HoursWorkedPerWeek', 'TelecommuteDaysPerWeek',\n",
       "       'PopulationOfLargestCityWithin20Miles', 'EmploymentSector',\n",
       "       'LookingForAnotherJob', 'CareerPlansThisYear', 'Gender',\n",
       "       'OtherJobDuties', 'KindsOfTasksPerformed', 'Counter'],\n",
       "      dtype='object')"
      ]
     },
     "execution_count": 4,
     "metadata": {},
     "output_type": "execute_result"
    }
   ],
   "source": [
    "data.columns"
   ]
  },
  {
   "cell_type": "code",
   "execution_count": 5,
   "metadata": {},
   "outputs": [
    {
     "data": {
      "text/html": [
       "<div>\n",
       "<style scoped>\n",
       "    .dataframe tbody tr th:only-of-type {\n",
       "        vertical-align: middle;\n",
       "    }\n",
       "\n",
       "    .dataframe tbody tr th {\n",
       "        vertical-align: top;\n",
       "    }\n",
       "\n",
       "    .dataframe thead th {\n",
       "        text-align: right;\n",
       "    }\n",
       "</style>\n",
       "<table border=\"1\" class=\"dataframe\">\n",
       "  <thead>\n",
       "    <tr style=\"text-align: right;\">\n",
       "      <th></th>\n",
       "      <th>SalaryUSD</th>\n",
       "      <th>Country</th>\n",
       "      <th>EmploymentStatus</th>\n",
       "      <th>YearsWithThisTypeOfJob</th>\n",
       "      <th>Education</th>\n",
       "      <th>EmploymentSector</th>\n",
       "    </tr>\n",
       "  </thead>\n",
       "  <tbody>\n",
       "    <tr>\n",
       "      <th>0</th>\n",
       "      <td>66 000</td>\n",
       "      <td>Sweden</td>\n",
       "      <td>Full time employee</td>\n",
       "      <td>2</td>\n",
       "      <td>Associates (2 years)</td>\n",
       "      <td>Private business</td>\n",
       "    </tr>\n",
       "    <tr>\n",
       "      <th>1</th>\n",
       "      <td>50 621</td>\n",
       "      <td>Germany</td>\n",
       "      <td>Full time employee</td>\n",
       "      <td>2</td>\n",
       "      <td>Associates (2 years)</td>\n",
       "      <td>Private business</td>\n",
       "    </tr>\n",
       "    <tr>\n",
       "      <th>2</th>\n",
       "      <td>110, 000</td>\n",
       "      <td>United States</td>\n",
       "      <td>Full time employee</td>\n",
       "      <td>1</td>\n",
       "      <td>Bachelors (4 years)</td>\n",
       "      <td>Private business</td>\n",
       "    </tr>\n",
       "    <tr>\n",
       "      <th>3</th>\n",
       "      <td>1450000</td>\n",
       "      <td>United States</td>\n",
       "      <td>Full time employee</td>\n",
       "      <td>12</td>\n",
       "      <td>Bachelors (4 years)</td>\n",
       "      <td>Private business</td>\n",
       "    </tr>\n",
       "    <tr>\n",
       "      <th>4</th>\n",
       "      <td>1450000</td>\n",
       "      <td>United States</td>\n",
       "      <td>Full time employee</td>\n",
       "      <td>10</td>\n",
       "      <td>Bachelors (4 years)</td>\n",
       "      <td>Private business</td>\n",
       "    </tr>\n",
       "  </tbody>\n",
       "</table>\n",
       "</div>"
      ],
      "text/plain": [
       "  SalaryUSD        Country    EmploymentStatus  YearsWithThisTypeOfJob  \\\n",
       "0    66 000         Sweden  Full time employee                       2   \n",
       "1    50 621        Germany  Full time employee                       2   \n",
       "2  110, 000  United States  Full time employee                       1   \n",
       "3   1450000  United States  Full time employee                      12   \n",
       "4   1450000  United States  Full time employee                      10   \n",
       "\n",
       "              Education  EmploymentSector  \n",
       "0  Associates (2 years)  Private business  \n",
       "1  Associates (2 years)  Private business  \n",
       "2   Bachelors (4 years)  Private business  \n",
       "3   Bachelors (4 years)  Private business  \n",
       "4   Bachelors (4 years)  Private business  "
      ]
     },
     "execution_count": 5,
     "metadata": {},
     "output_type": "execute_result"
    }
   ],
   "source": [
    "# Picking out the columns that we want.\n",
    "clean_data = data[['SalaryUSD','Country','EmploymentStatus','YearsWithThisTypeOfJob','Education','EmploymentSector']]\n",
    "clean_data.head()"
   ]
  },
  {
   "cell_type": "code",
   "execution_count": 6,
   "metadata": {},
   "outputs": [
    {
     "data": {
      "text/html": [
       "<div>\n",
       "<style scoped>\n",
       "    .dataframe tbody tr th:only-of-type {\n",
       "        vertical-align: middle;\n",
       "    }\n",
       "\n",
       "    .dataframe tbody tr th {\n",
       "        vertical-align: top;\n",
       "    }\n",
       "\n",
       "    .dataframe thead th {\n",
       "        text-align: right;\n",
       "    }\n",
       "</style>\n",
       "<table border=\"1\" class=\"dataframe\">\n",
       "  <thead>\n",
       "    <tr style=\"text-align: right;\">\n",
       "      <th></th>\n",
       "      <th>Salary</th>\n",
       "      <th>Country</th>\n",
       "      <th>Employment Status</th>\n",
       "      <th>Experience</th>\n",
       "      <th>Education</th>\n",
       "      <th>Employment Sector</th>\n",
       "    </tr>\n",
       "  </thead>\n",
       "  <tbody>\n",
       "    <tr>\n",
       "      <th>0</th>\n",
       "      <td>66 000</td>\n",
       "      <td>Sweden</td>\n",
       "      <td>Full time employee</td>\n",
       "      <td>2</td>\n",
       "      <td>Associates (2 years)</td>\n",
       "      <td>Private business</td>\n",
       "    </tr>\n",
       "    <tr>\n",
       "      <th>1</th>\n",
       "      <td>50 621</td>\n",
       "      <td>Germany</td>\n",
       "      <td>Full time employee</td>\n",
       "      <td>2</td>\n",
       "      <td>Associates (2 years)</td>\n",
       "      <td>Private business</td>\n",
       "    </tr>\n",
       "    <tr>\n",
       "      <th>2</th>\n",
       "      <td>110, 000</td>\n",
       "      <td>United States</td>\n",
       "      <td>Full time employee</td>\n",
       "      <td>1</td>\n",
       "      <td>Bachelors (4 years)</td>\n",
       "      <td>Private business</td>\n",
       "    </tr>\n",
       "    <tr>\n",
       "      <th>3</th>\n",
       "      <td>1450000</td>\n",
       "      <td>United States</td>\n",
       "      <td>Full time employee</td>\n",
       "      <td>12</td>\n",
       "      <td>Bachelors (4 years)</td>\n",
       "      <td>Private business</td>\n",
       "    </tr>\n",
       "    <tr>\n",
       "      <th>4</th>\n",
       "      <td>1450000</td>\n",
       "      <td>United States</td>\n",
       "      <td>Full time employee</td>\n",
       "      <td>10</td>\n",
       "      <td>Bachelors (4 years)</td>\n",
       "      <td>Private business</td>\n",
       "    </tr>\n",
       "  </tbody>\n",
       "</table>\n",
       "</div>"
      ],
      "text/plain": [
       "     Salary        Country   Employment Status  Experience  \\\n",
       "0    66 000         Sweden  Full time employee           2   \n",
       "1    50 621        Germany  Full time employee           2   \n",
       "2  110, 000  United States  Full time employee           1   \n",
       "3   1450000  United States  Full time employee          12   \n",
       "4   1450000  United States  Full time employee          10   \n",
       "\n",
       "              Education Employment Sector  \n",
       "0  Associates (2 years)  Private business  \n",
       "1  Associates (2 years)  Private business  \n",
       "2   Bachelors (4 years)  Private business  \n",
       "3   Bachelors (4 years)  Private business  \n",
       "4   Bachelors (4 years)  Private business  "
      ]
     },
     "execution_count": 6,
     "metadata": {},
     "output_type": "execute_result"
    }
   ],
   "source": [
    "# Renaming column header to make it neater\n",
    "rename_data = clean_data.rename(columns={'YearsWithThisTypeOfJob':'Experience','EmploymentSector':'Employment Sector',\n",
    "                                        'EmploymentStatus':'Employment Status','SalaryUSD':'Salary'})\n",
    "rename_data.head()"
   ]
  },
  {
   "cell_type": "code",
   "execution_count": 7,
   "metadata": {},
   "outputs": [
    {
     "data": {
      "text/html": [
       "<div>\n",
       "<style scoped>\n",
       "    .dataframe tbody tr th:only-of-type {\n",
       "        vertical-align: middle;\n",
       "    }\n",
       "\n",
       "    .dataframe tbody tr th {\n",
       "        vertical-align: top;\n",
       "    }\n",
       "\n",
       "    .dataframe thead th {\n",
       "        text-align: right;\n",
       "    }\n",
       "</style>\n",
       "<table border=\"1\" class=\"dataframe\">\n",
       "  <thead>\n",
       "    <tr style=\"text-align: right;\">\n",
       "      <th></th>\n",
       "      <th>Salary</th>\n",
       "      <th>Country</th>\n",
       "      <th>Employment Status</th>\n",
       "      <th>Experience</th>\n",
       "      <th>Education</th>\n",
       "      <th>Employment Sector</th>\n",
       "    </tr>\n",
       "  </thead>\n",
       "  <tbody>\n",
       "    <tr>\n",
       "      <th>2</th>\n",
       "      <td>110, 000</td>\n",
       "      <td>United States</td>\n",
       "      <td>Full time employee</td>\n",
       "      <td>1</td>\n",
       "      <td>Bachelors (4 years)</td>\n",
       "      <td>Private business</td>\n",
       "    </tr>\n",
       "    <tr>\n",
       "      <th>3</th>\n",
       "      <td>1450000</td>\n",
       "      <td>United States</td>\n",
       "      <td>Full time employee</td>\n",
       "      <td>12</td>\n",
       "      <td>Bachelors (4 years)</td>\n",
       "      <td>Private business</td>\n",
       "    </tr>\n",
       "    <tr>\n",
       "      <th>4</th>\n",
       "      <td>1450000</td>\n",
       "      <td>United States</td>\n",
       "      <td>Full time employee</td>\n",
       "      <td>10</td>\n",
       "      <td>Bachelors (4 years)</td>\n",
       "      <td>Private business</td>\n",
       "    </tr>\n",
       "    <tr>\n",
       "      <th>5</th>\n",
       "      <td>1375000</td>\n",
       "      <td>United States</td>\n",
       "      <td>Part time</td>\n",
       "      <td>18</td>\n",
       "      <td>Masters</td>\n",
       "      <td>Private business</td>\n",
       "    </tr>\n",
       "    <tr>\n",
       "      <th>6</th>\n",
       "      <td>1000000</td>\n",
       "      <td>United States</td>\n",
       "      <td>Full time employee</td>\n",
       "      <td>20</td>\n",
       "      <td>None (no degree completed)</td>\n",
       "      <td>Private business</td>\n",
       "    </tr>\n",
       "  </tbody>\n",
       "</table>\n",
       "</div>"
      ],
      "text/plain": [
       "     Salary        Country   Employment Status  Experience  \\\n",
       "2  110, 000  United States  Full time employee           1   \n",
       "3   1450000  United States  Full time employee          12   \n",
       "4   1450000  United States  Full time employee          10   \n",
       "5   1375000  United States           Part time          18   \n",
       "6   1000000  United States  Full time employee          20   \n",
       "\n",
       "                    Education Employment Sector  \n",
       "2         Bachelors (4 years)  Private business  \n",
       "3         Bachelors (4 years)  Private business  \n",
       "4         Bachelors (4 years)  Private business  \n",
       "5                     Masters  Private business  \n",
       "6  None (no degree completed)  Private business  "
      ]
     },
     "execution_count": 7,
     "metadata": {},
     "output_type": "execute_result"
    }
   ],
   "source": [
    "# Filtering out all the country except USA\n",
    "usa_only = rename_data.loc[rename_data['Country'] == 'United States',:]\n",
    "usa_only.head()"
   ]
  },
  {
   "cell_type": "code",
   "execution_count": 8,
   "metadata": {},
   "outputs": [
    {
     "data": {
      "text/plain": [
       "Full time employee                                                   4121\n",
       "Full time employee of a consulting/contracting company                272\n",
       "Independent consultant, contractor, freelancer,  or company owner      70\n",
       "Independent or freelancer or company owner                             39\n",
       "Part time                                                               7\n",
       "Name: Employment Status, dtype: int64"
      ]
     },
     "execution_count": 8,
     "metadata": {},
     "output_type": "execute_result"
    }
   ],
   "source": [
    "# Merging employment status to full time employee, Independent, and part time.\n",
    "usa_only['Employment Status'].value_counts()"
   ]
  },
  {
   "cell_type": "code",
   "execution_count": 9,
   "metadata": {},
   "outputs": [
    {
     "name": "stderr",
     "output_type": "stream",
     "text": [
      "/Users/imanuelgemilang/anaconda3/lib/python3.7/site-packages/ipykernel_launcher.py:3: SettingWithCopyWarning: \n",
      "A value is trying to be set on a copy of a slice from a DataFrame.\n",
      "Try using .loc[row_indexer,col_indexer] = value instead\n",
      "\n",
      "See the caveats in the documentation: http://pandas.pydata.org/pandas-docs/stable/indexing.html#indexing-view-versus-copy\n",
      "  This is separate from the ipykernel package so we can avoid doing imports until\n"
     ]
    }
   ],
   "source": [
    "usa_only['Employment Status'] = usa_only['Employment Status'].replace({'Full time employee of a consulting/contracting company':'Full time employee',\n",
    "                                                                       'Independent consultant, contractor, freelancer,  or company owner':'Independent',\n",
    "                                                                       'Independent or freelancer or company owner':'Independent'})"
   ]
  },
  {
   "cell_type": "code",
   "execution_count": 10,
   "metadata": {},
   "outputs": [
    {
     "data": {
      "text/plain": [
       "Full time employee    4393\n",
       "Independent            109\n",
       "Part time                7\n",
       "Name: Employment Status, dtype: int64"
      ]
     },
     "execution_count": 10,
     "metadata": {},
     "output_type": "execute_result"
    }
   ],
   "source": [
    "# replace the old variable to new variable to see if everything is merge properly.\n",
    "usa_only['Employment Status'].value_counts()"
   ]
  },
  {
   "cell_type": "code",
   "execution_count": 21,
   "metadata": {},
   "outputs": [
    {
     "ename": "KeyError",
     "evalue": "'[2] not found in axis'",
     "output_type": "error",
     "traceback": [
      "\u001b[0;31m---------------------------------------------------------------------------\u001b[0m",
      "\u001b[0;31mKeyError\u001b[0m                                  Traceback (most recent call last)",
      "\u001b[0;32m<ipython-input-21-deca79d4e3ec>\u001b[0m in \u001b[0;36m<module>\u001b[0;34m\u001b[0m\n\u001b[1;32m      1\u001b[0m \u001b[0;31m# Dropping the a weird value, which is 110, 000\u001b[0m\u001b[0;34m\u001b[0m\u001b[0;34m\u001b[0m\u001b[0;34m\u001b[0m\u001b[0m\n\u001b[0;32m----> 2\u001b[0;31m \u001b[0musa_only\u001b[0m \u001b[0;34m=\u001b[0m \u001b[0musa_only\u001b[0m\u001b[0;34m.\u001b[0m\u001b[0mdrop\u001b[0m\u001b[0;34m(\u001b[0m\u001b[0;34m[\u001b[0m\u001b[0;36m2\u001b[0m\u001b[0;34m]\u001b[0m\u001b[0;34m)\u001b[0m\u001b[0;34m\u001b[0m\u001b[0;34m\u001b[0m\u001b[0m\n\u001b[0m\u001b[1;32m      3\u001b[0m \u001b[0musa_only\u001b[0m\u001b[0;34m.\u001b[0m\u001b[0mhead\u001b[0m\u001b[0;34m(\u001b[0m\u001b[0;34m)\u001b[0m\u001b[0;34m\u001b[0m\u001b[0;34m\u001b[0m\u001b[0m\n",
      "\u001b[0;32m~/anaconda3/lib/python3.7/site-packages/pandas/core/frame.py\u001b[0m in \u001b[0;36mdrop\u001b[0;34m(self, labels, axis, index, columns, level, inplace, errors)\u001b[0m\n\u001b[1;32m   3938\u001b[0m                                            \u001b[0mindex\u001b[0m\u001b[0;34m=\u001b[0m\u001b[0mindex\u001b[0m\u001b[0;34m,\u001b[0m \u001b[0mcolumns\u001b[0m\u001b[0;34m=\u001b[0m\u001b[0mcolumns\u001b[0m\u001b[0;34m,\u001b[0m\u001b[0;34m\u001b[0m\u001b[0;34m\u001b[0m\u001b[0m\n\u001b[1;32m   3939\u001b[0m                                            \u001b[0mlevel\u001b[0m\u001b[0;34m=\u001b[0m\u001b[0mlevel\u001b[0m\u001b[0;34m,\u001b[0m \u001b[0minplace\u001b[0m\u001b[0;34m=\u001b[0m\u001b[0minplace\u001b[0m\u001b[0;34m,\u001b[0m\u001b[0;34m\u001b[0m\u001b[0;34m\u001b[0m\u001b[0m\n\u001b[0;32m-> 3940\u001b[0;31m                                            errors=errors)\n\u001b[0m\u001b[1;32m   3941\u001b[0m \u001b[0;34m\u001b[0m\u001b[0m\n\u001b[1;32m   3942\u001b[0m     @rewrite_axis_style_signature('mapper', [('copy', True),\n",
      "\u001b[0;32m~/anaconda3/lib/python3.7/site-packages/pandas/core/generic.py\u001b[0m in \u001b[0;36mdrop\u001b[0;34m(self, labels, axis, index, columns, level, inplace, errors)\u001b[0m\n\u001b[1;32m   3778\u001b[0m         \u001b[0;32mfor\u001b[0m \u001b[0maxis\u001b[0m\u001b[0;34m,\u001b[0m \u001b[0mlabels\u001b[0m \u001b[0;32min\u001b[0m \u001b[0maxes\u001b[0m\u001b[0;34m.\u001b[0m\u001b[0mitems\u001b[0m\u001b[0;34m(\u001b[0m\u001b[0;34m)\u001b[0m\u001b[0;34m:\u001b[0m\u001b[0;34m\u001b[0m\u001b[0;34m\u001b[0m\u001b[0m\n\u001b[1;32m   3779\u001b[0m             \u001b[0;32mif\u001b[0m \u001b[0mlabels\u001b[0m \u001b[0;32mis\u001b[0m \u001b[0;32mnot\u001b[0m \u001b[0;32mNone\u001b[0m\u001b[0;34m:\u001b[0m\u001b[0;34m\u001b[0m\u001b[0;34m\u001b[0m\u001b[0m\n\u001b[0;32m-> 3780\u001b[0;31m                 \u001b[0mobj\u001b[0m \u001b[0;34m=\u001b[0m \u001b[0mobj\u001b[0m\u001b[0;34m.\u001b[0m\u001b[0m_drop_axis\u001b[0m\u001b[0;34m(\u001b[0m\u001b[0mlabels\u001b[0m\u001b[0;34m,\u001b[0m \u001b[0maxis\u001b[0m\u001b[0;34m,\u001b[0m \u001b[0mlevel\u001b[0m\u001b[0;34m=\u001b[0m\u001b[0mlevel\u001b[0m\u001b[0;34m,\u001b[0m \u001b[0merrors\u001b[0m\u001b[0;34m=\u001b[0m\u001b[0merrors\u001b[0m\u001b[0;34m)\u001b[0m\u001b[0;34m\u001b[0m\u001b[0;34m\u001b[0m\u001b[0m\n\u001b[0m\u001b[1;32m   3781\u001b[0m \u001b[0;34m\u001b[0m\u001b[0m\n\u001b[1;32m   3782\u001b[0m         \u001b[0;32mif\u001b[0m \u001b[0minplace\u001b[0m\u001b[0;34m:\u001b[0m\u001b[0;34m\u001b[0m\u001b[0;34m\u001b[0m\u001b[0m\n",
      "\u001b[0;32m~/anaconda3/lib/python3.7/site-packages/pandas/core/generic.py\u001b[0m in \u001b[0;36m_drop_axis\u001b[0;34m(self, labels, axis, level, errors)\u001b[0m\n\u001b[1;32m   3810\u001b[0m                 \u001b[0mnew_axis\u001b[0m \u001b[0;34m=\u001b[0m \u001b[0maxis\u001b[0m\u001b[0;34m.\u001b[0m\u001b[0mdrop\u001b[0m\u001b[0;34m(\u001b[0m\u001b[0mlabels\u001b[0m\u001b[0;34m,\u001b[0m \u001b[0mlevel\u001b[0m\u001b[0;34m=\u001b[0m\u001b[0mlevel\u001b[0m\u001b[0;34m,\u001b[0m \u001b[0merrors\u001b[0m\u001b[0;34m=\u001b[0m\u001b[0merrors\u001b[0m\u001b[0;34m)\u001b[0m\u001b[0;34m\u001b[0m\u001b[0;34m\u001b[0m\u001b[0m\n\u001b[1;32m   3811\u001b[0m             \u001b[0;32melse\u001b[0m\u001b[0;34m:\u001b[0m\u001b[0;34m\u001b[0m\u001b[0;34m\u001b[0m\u001b[0m\n\u001b[0;32m-> 3812\u001b[0;31m                 \u001b[0mnew_axis\u001b[0m \u001b[0;34m=\u001b[0m \u001b[0maxis\u001b[0m\u001b[0;34m.\u001b[0m\u001b[0mdrop\u001b[0m\u001b[0;34m(\u001b[0m\u001b[0mlabels\u001b[0m\u001b[0;34m,\u001b[0m \u001b[0merrors\u001b[0m\u001b[0;34m=\u001b[0m\u001b[0merrors\u001b[0m\u001b[0;34m)\u001b[0m\u001b[0;34m\u001b[0m\u001b[0;34m\u001b[0m\u001b[0m\n\u001b[0m\u001b[1;32m   3813\u001b[0m             \u001b[0mresult\u001b[0m \u001b[0;34m=\u001b[0m \u001b[0mself\u001b[0m\u001b[0;34m.\u001b[0m\u001b[0mreindex\u001b[0m\u001b[0;34m(\u001b[0m\u001b[0;34m**\u001b[0m\u001b[0;34m{\u001b[0m\u001b[0maxis_name\u001b[0m\u001b[0;34m:\u001b[0m \u001b[0mnew_axis\u001b[0m\u001b[0;34m}\u001b[0m\u001b[0;34m)\u001b[0m\u001b[0;34m\u001b[0m\u001b[0;34m\u001b[0m\u001b[0m\n\u001b[1;32m   3814\u001b[0m \u001b[0;34m\u001b[0m\u001b[0m\n",
      "\u001b[0;32m~/anaconda3/lib/python3.7/site-packages/pandas/core/indexes/base.py\u001b[0m in \u001b[0;36mdrop\u001b[0;34m(self, labels, errors)\u001b[0m\n\u001b[1;32m   4963\u001b[0m             \u001b[0;32mif\u001b[0m \u001b[0merrors\u001b[0m \u001b[0;34m!=\u001b[0m \u001b[0;34m'ignore'\u001b[0m\u001b[0;34m:\u001b[0m\u001b[0;34m\u001b[0m\u001b[0;34m\u001b[0m\u001b[0m\n\u001b[1;32m   4964\u001b[0m                 raise KeyError(\n\u001b[0;32m-> 4965\u001b[0;31m                     '{} not found in axis'.format(labels[mask]))\n\u001b[0m\u001b[1;32m   4966\u001b[0m             \u001b[0mindexer\u001b[0m \u001b[0;34m=\u001b[0m \u001b[0mindexer\u001b[0m\u001b[0;34m[\u001b[0m\u001b[0;34m~\u001b[0m\u001b[0mmask\u001b[0m\u001b[0;34m]\u001b[0m\u001b[0;34m\u001b[0m\u001b[0;34m\u001b[0m\u001b[0m\n\u001b[1;32m   4967\u001b[0m         \u001b[0;32mreturn\u001b[0m \u001b[0mself\u001b[0m\u001b[0;34m.\u001b[0m\u001b[0mdelete\u001b[0m\u001b[0;34m(\u001b[0m\u001b[0mindexer\u001b[0m\u001b[0;34m)\u001b[0m\u001b[0;34m\u001b[0m\u001b[0;34m\u001b[0m\u001b[0m\n",
      "\u001b[0;31mKeyError\u001b[0m: '[2] not found in axis'"
     ]
    }
   ],
   "source": [
    "# Dropping the a weird value, which is 110, 000\n",
    "usa_only = usa_only.drop([2])\n",
    "usa_only.head()"
   ]
  },
  {
   "cell_type": "code",
   "execution_count": 22,
   "metadata": {},
   "outputs": [],
   "source": [
    "# convert salary from string to numeric type\n",
    "usa_only['Salary'] = pd.to_numeric(usa_only['Salary'])\n"
   ]
  },
  {
   "cell_type": "code",
   "execution_count": 24,
   "metadata": {},
   "outputs": [
    {
     "data": {
      "text/plain": [
       "92.27"
      ]
     },
     "execution_count": 24,
     "metadata": {},
     "output_type": "execute_result"
    }
   ],
   "source": [
    "usa_only['Salary'].min()"
   ]
  },
  {
   "cell_type": "code",
   "execution_count": 56,
   "metadata": {},
   "outputs": [
    {
     "data": {
      "text/html": [
       "<div>\n",
       "<style scoped>\n",
       "    .dataframe tbody tr th:only-of-type {\n",
       "        vertical-align: middle;\n",
       "    }\n",
       "\n",
       "    .dataframe tbody tr th {\n",
       "        vertical-align: top;\n",
       "    }\n",
       "\n",
       "    .dataframe thead th {\n",
       "        text-align: right;\n",
       "    }\n",
       "</style>\n",
       "<table border=\"1\" class=\"dataframe\">\n",
       "  <thead>\n",
       "    <tr style=\"text-align: right;\">\n",
       "      <th></th>\n",
       "      <th>Salary</th>\n",
       "      <th>Country</th>\n",
       "      <th>Employment Status</th>\n",
       "      <th>Experience</th>\n",
       "      <th>Education</th>\n",
       "      <th>Employment Sector</th>\n",
       "    </tr>\n",
       "  </thead>\n",
       "  <tbody>\n",
       "    <tr>\n",
       "      <th>3</th>\n",
       "      <td>1450000.0</td>\n",
       "      <td>United States</td>\n",
       "      <td>Full time employee</td>\n",
       "      <td>12</td>\n",
       "      <td>Bachelors (4 years)</td>\n",
       "      <td>Private business</td>\n",
       "    </tr>\n",
       "    <tr>\n",
       "      <th>4</th>\n",
       "      <td>1450000.0</td>\n",
       "      <td>United States</td>\n",
       "      <td>Full time employee</td>\n",
       "      <td>10</td>\n",
       "      <td>Bachelors (4 years)</td>\n",
       "      <td>Private business</td>\n",
       "    </tr>\n",
       "    <tr>\n",
       "      <th>5</th>\n",
       "      <td>1375000.0</td>\n",
       "      <td>United States</td>\n",
       "      <td>Part time</td>\n",
       "      <td>18</td>\n",
       "      <td>Masters</td>\n",
       "      <td>Private business</td>\n",
       "    </tr>\n",
       "    <tr>\n",
       "      <th>6</th>\n",
       "      <td>1000000.0</td>\n",
       "      <td>United States</td>\n",
       "      <td>Full time employee</td>\n",
       "      <td>20</td>\n",
       "      <td>None (no degree completed)</td>\n",
       "      <td>Private business</td>\n",
       "    </tr>\n",
       "    <tr>\n",
       "      <th>7</th>\n",
       "      <td>1000000.0</td>\n",
       "      <td>United States</td>\n",
       "      <td>Independent</td>\n",
       "      <td>3</td>\n",
       "      <td>Doctorate/PhD</td>\n",
       "      <td>Federal government</td>\n",
       "    </tr>\n",
       "  </tbody>\n",
       "</table>\n",
       "</div>"
      ],
      "text/plain": [
       "      Salary        Country   Employment Status  Experience  \\\n",
       "3  1450000.0  United States  Full time employee          12   \n",
       "4  1450000.0  United States  Full time employee          10   \n",
       "5  1375000.0  United States           Part time          18   \n",
       "6  1000000.0  United States  Full time employee          20   \n",
       "7  1000000.0  United States         Independent           3   \n",
       "\n",
       "                    Education   Employment Sector  \n",
       "3         Bachelors (4 years)    Private business  \n",
       "4         Bachelors (4 years)    Private business  \n",
       "5                     Masters    Private business  \n",
       "6  None (no degree completed)    Private business  \n",
       "7               Doctorate/PhD  Federal government  "
      ]
     },
     "execution_count": 56,
     "metadata": {},
     "output_type": "execute_result"
    }
   ],
   "source": [
    "usa_only.head()"
   ]
  },
  {
   "cell_type": "code",
   "execution_count": 44,
   "metadata": {},
   "outputs": [
    {
     "data": {
      "text/plain": [
       "''"
      ]
     },
     "execution_count": 44,
     "metadata": {},
     "output_type": "execute_result"
    },
    {
     "data": {
      "image/png": "[encoded data removed]",
      "text/plain": [
       "<Figure size 432x288 with 1 Axes>"
      ]
     },
     "metadata": {
      "needs_background": "light"
     },
     "output_type": "display_data"
    }
   ],
   "source": [
    "employment_status = usa_only_salaries.groupby('Employment Status').Salary.mean()[['Part time', 'Full time employee', 'Independent']].plot(kind='bar',legend=True)\n",
    "\n",
    "\n",
    "employment_status.set_ylabel('Average Salary')\n",
    "employment_status.set_title('Employment Status vs Average Salary')\n",
    "\n",
    "\n",
    "\n",
    ";"
   ]
  },
  {
   "cell_type": "code",
   "execution_count": 49,
   "metadata": {},
   "outputs": [
    {
     "data": {
      "text/plain": [
       "''"
      ]
     },
     "execution_count": 49,
     "metadata": {},
     "output_type": "execute_result"
    },
    {
     "data": {
      "image/png": "[encoded data removed]",
      "text/plain": [
       "<Figure size 432x288 with 1 Axes>"
      ]
     },
     "metadata": {
      "needs_background": "light"
     },
     "output_type": "display_data"
    }
   ],
   "source": [
    "employment_status_1=usa_only_salaries.groupby('Employment Sector').Salary.mean().plot(kind='bar',label=True)\n",
    "\n",
    "employment_status_1.set_ylabel('Average Salary')\n",
    "employment_status_1.set_title('Employment Sectors vs Average Salary')\n",
    ";"
   ]
  },
  {
   "cell_type": "code",
   "execution_count": 67,
   "metadata": {},
   "outputs": [
    {
     "data": {
      "text/plain": [
       "''"
      ]
     },
     "execution_count": 67,
     "metadata": {},
     "output_type": "execute_result"
    },
    {
     "data": {
      "image/png": "[encoded data removed]",
      "text/plain": [
       "<Figure size 432x288 with 1 Axes>"
      ]
     },
     "metadata": {
      "needs_background": "light"
     },
     "output_type": "display_data"
    }
   ],
   "source": [
    "employment_status_3 = usa_only_salaries.groupby('Education').Salary.mean()[['None (no degree completed)',\n",
    "                                                     'Associates (2 years)',\n",
    "                                                     'Bachelors (4 years)',\n",
    "                                                      'Masters',\n",
    "                                                      'Doctorate/PhD']].plot(kind='bar')\n",
    "\n",
    "employment_status_3.set_ylabel('Average Salary')\n",
    "employment_status_3.set_title('Education vs Average Salary')\n",
    ";"
   ]
  },
  {
   "cell_type": "code",
   "execution_count": 68,
   "metadata": {},
   "outputs": [
    {
     "data": {
      "text/plain": [
       "''"
      ]
     },
     "execution_count": 68,
     "metadata": {},
     "output_type": "execute_result"
    },
    {
     "data": {
      "image/png": "[encoded data removed]",
      "text/plain": [
       "<Figure size 432x288 with 1 Axes>"
      ]
     },
     "metadata": {
      "needs_background": "light"
     },
     "output_type": "display_data"
    }
   ],
   "source": [
    "employment_status_4 = usa_only_salaries.groupby('Experience').Salary.mean().plot(kind = 'line',label=True)\n",
    "employment_status_4.set_ylabel('Average Salary')\n",
    "employment_status_4.set_title('Experience vs Average Salary')\n",
    ";"
   ]
  },
  {
   "cell_type": "code",
   "execution_count": null,
   "metadata": {},
   "outputs": [],
   "source": []
  }
 ],
 "metadata": {
  "kernelspec": {
   "display_name": "Python 3",
   "language": "python",
   "name": "python3"
  },
  "language_info": {
   "codemirror_mode": {
    "name": "ipython",
    "version": 3
   },
   "file_extension": ".py",
   "mimetype": "text/x-python",
   "name": "python",
   "nbconvert_exporter": "python",
   "pygments_lexer": "ipython3",
   "version": "3.7.3"
  }
 },
 "nbformat": 4,
 "nbformat_minor": 4
}
